{
 "cells": [
  {
   "cell_type": "code",
   "execution_count": 1,
   "metadata": {},
   "outputs": [],
   "source": [
    "import csv\n",
    "import pandas as pd\n",
    "import requests\n",
    "import json, re\n",
    "from tqdm import tqdm\n",
    "from bs4 import BeautifulSoup"
   ]
  },
  {
   "cell_type": "code",
   "execution_count": 2,
   "metadata": {},
   "outputs": [],
   "source": [
    "csv_file = pd.read_csv(\"IsbnDave_clean.csv\")\n",
    "#csv_file = pd.read_csv(\"old_isbn.csv\")"
   ]
  },
  {
   "cell_type": "code",
   "execution_count": 3,
   "metadata": {},
   "outputs": [
    {
     "data": {
      "text/html": [
       "<div>\n",
       "<style scoped>\n",
       "    .dataframe tbody tr th:only-of-type {\n",
       "        vertical-align: middle;\n",
       "    }\n",
       "\n",
       "    .dataframe tbody tr th {\n",
       "        vertical-align: top;\n",
       "    }\n",
       "\n",
       "    .dataframe thead th {\n",
       "        text-align: right;\n",
       "    }\n",
       "</style>\n",
       "<table border=\"1\" class=\"dataframe\">\n",
       "  <thead>\n",
       "    <tr style=\"text-align: right;\">\n",
       "      <th></th>\n",
       "      <th>ISBN</th>\n",
       "      <th>Category</th>\n",
       "    </tr>\n",
       "  </thead>\n",
       "  <tbody>\n",
       "    <tr>\n",
       "      <th>count</th>\n",
       "      <td>101</td>\n",
       "      <td>101</td>\n",
       "    </tr>\n",
       "    <tr>\n",
       "      <th>unique</th>\n",
       "      <td>100</td>\n",
       "      <td>6</td>\n",
       "    </tr>\n",
       "    <tr>\n",
       "      <th>top</th>\n",
       "      <td>9780815340812</td>\n",
       "      <td>computer science</td>\n",
       "    </tr>\n",
       "    <tr>\n",
       "      <th>freq</th>\n",
       "      <td>2</td>\n",
       "      <td>28</td>\n",
       "    </tr>\n",
       "  </tbody>\n",
       "</table>\n",
       "</div>"
      ],
      "text/plain": [
       "                 ISBN          Category\n",
       "count             101               101\n",
       "unique            100                 6\n",
       "top     9780815340812  computer science\n",
       "freq                2                28"
      ]
     },
     "execution_count": 3,
     "metadata": {},
     "output_type": "execute_result"
    }
   ],
   "source": [
    "csv_file.describe()"
   ]
  },
  {
   "cell_type": "code",
   "execution_count": 4,
   "metadata": {},
   "outputs": [],
   "source": [
    "api = \"https://www.googleapis.com/books/v1/volumes?q=isbn%3D\"\n",
    "api = \"https://openlibrary.org/api/books?bibkeys=ISBN:\"\n",
    "isbn = \"9780134092669\"\n",
    "\n",
    "req_url = f\"{api}{isbn}&callback=mycallback\""
   ]
  },
  {
   "cell_type": "code",
   "execution_count": 5,
   "metadata": {},
   "outputs": [],
   "source": [
    "def openLibrary(isbn):\n",
    "    \"\"\"\n",
    "    \"\"\"\n",
    "    api = \"https://openlibrary.org/api/books?bibkeys=ISBN:\"\n",
    "    # Search ISBN\n",
    "    req_url = f\"{api}{isbn}\"\n",
    "    r = requests.get(req_url)\n",
    "    \n",
    "    book_url = re.search('\"info_url\": \"(.*)\"}};', r.text).group(1)\n",
    "    r_book = requests.get(book_url)\n",
    "    \n",
    "    soup = BeautifulSoup(r_book.text)\n",
    "    title = soup.h1.text\n",
    "    autor = soup.findAll(\"div\", {\"class\": \"Author\"})[0].text.replace(\"\\n\", \"\")\n",
    "    \n",
    "    date = soup.findAll(\"strong\", {\"itemprop\" : \"datePublished\"})[0].text.replace(\"\\n\", \"\")\n",
    "    \n",
    "    return isbn, title, autor, date\n",
    "    # print statements\n",
    "#    print(isbn, \"-\", title, \"-\", autor)\n",
    "#    print(req_url)\n",
    "#    print(book_url)\n",
    "#    print(title)\n",
    "#    print(autor)"
   ]
  },
  {
   "cell_type": "code",
   "execution_count": 6,
   "metadata": {},
   "outputs": [],
   "source": [
    "def abeBooks(isbn):\n",
    "    \"\"\"\n",
    "    \"\"\"\n",
    "    api = \"https://www.abebooks.com/servlet/SearchResults?cm_sp=SearchF-_-topnav-_-Results&kn=\"\n",
    "    # Search ISBN\n",
    "    req_url = f\"{api}{isbn}\"\n",
    "    r = requests.get(req_url)\n",
    "    soup = BeautifulSoup(r.text)\n",
    "    \n",
    "    f = soup.findAll(\"a\", attrs={'itemprop': \"url\"})\n",
    "    title = [i.text for i in f][0]\n",
    "\n",
    "    autor = \"#\"\n",
    "    f = soup.findAll(\"strong\")\n",
    "    autor = [i.text for i in f][0].replace(\"\\n\", \"\")\n",
    "    \n",
    "    date = \"0000\"\n",
    "    \n",
    "    return isbn, title, autor, date "
   ]
  },
  {
   "cell_type": "code",
   "execution_count": 9,
   "metadata": {},
   "outputs": [
    {
     "name": "stderr",
     "output_type": "stream",
     "text": [
      " 80%|████████  | 81/101 [06:01<01:19,  3.99s/it]"
     ]
    },
    {
     "name": "stdout",
     "output_type": "stream",
     "text": [
      "ERROR : 6780712084362\n"
     ]
    },
    {
     "name": "stderr",
     "output_type": "stream",
     "text": [
      "100%|██████████| 101/101 [07:28<00:00,  3.64s/it]\n"
     ]
    }
   ],
   "source": [
    "outf = open(\"./bookOfDave.tsv\", \"w\")\n",
    "outf.write(f\"isbn\\tcategory\\ttitle\\tautor\\tdate\\n\")\n",
    "\n",
    "for isbn, cat in tqdm(list(zip(csv_file[\"ISBN\"], csv_file[\"Category\"]))):\n",
    "    \n",
    "    if len(isbn) < 10:\n",
    "        isbn = \"0\"+str(isbn)\n",
    "    \n",
    "    # Search ISBN\n",
    "    req_url = f\"{api}{isbn}\"\n",
    "    r = requests.get(req_url)\n",
    "    \n",
    "    # Book page\n",
    "    try:\n",
    "        isbn, title, autor, date = openLibrary(isbn)\n",
    "    except:\n",
    "        try:\n",
    "            isbn, title, autor, date = abeBooks(isbn)\n",
    "        except:\n",
    "            print(f\"ERROR : {isbn}\")\n",
    "            isbn, title, autor, date = isbn, \"NA\", \"NA\", \"0000\"\n",
    "    \n",
    "    outf.write(f\"{isbn}\\t{cat}\\t{title}\\t{autor}\\t{date}\\n\")\n",
    "outf.close()"
   ]
  }
 ],
 "metadata": {
  "kernelspec": {
   "display_name": "Python 3",
   "language": "python",
   "name": "python3"
  },
  "language_info": {
   "codemirror_mode": {
    "name": "ipython",
    "version": 3
   },
   "file_extension": ".py",
   "mimetype": "text/x-python",
   "name": "python",
   "nbconvert_exporter": "python",
   "pygments_lexer": "ipython3",
   "version": "3.7.3"
  }
 },
 "nbformat": 4,
 "nbformat_minor": 2
}
